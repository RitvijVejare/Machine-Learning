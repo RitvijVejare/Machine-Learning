{
 "cells": [
  {
   "cell_type": "code",
   "execution_count": 102,
   "metadata": {},
   "outputs": [],
   "source": [
    "import pandas as pd\n",
    "import numpy as np\n",
    "from keras.models import Sequential\n",
    "from keras.layers import Dense\n",
    "from sklearn.model_selection import train_test_split"
   ]
  },
  {
   "cell_type": "code",
   "execution_count": 134,
   "metadata": {},
   "outputs": [
    {
     "name": "stdout",
     "output_type": "stream",
     "text": [
      "<class 'pandas.core.frame.DataFrame'>\n",
      "RangeIndex: 8124 entries, 0 to 8123\n",
      "Data columns (total 23 columns):\n",
      "class                       8124 non-null object\n",
      "cap-shape                   8124 non-null object\n",
      "cap-surface                 8124 non-null object\n",
      "cap-color                   8124 non-null object\n",
      "bruises                     8124 non-null object\n",
      "odor                        8124 non-null object\n",
      "gill-attachment             8124 non-null object\n",
      "gill-spacing                8124 non-null object\n",
      "gill-size                   8124 non-null object\n",
      "gill-color                  8124 non-null object\n",
      "stalk-shape                 8124 non-null object\n",
      "stalk-root                  8124 non-null object\n",
      "stalk-surface-above-ring    8124 non-null object\n",
      "stalk-surface-below-ring    8124 non-null object\n",
      "stalk-color-above-ring      8124 non-null object\n",
      "stalk-color-below-ring      8124 non-null object\n",
      "veil-type                   8124 non-null object\n",
      "veil-color                  8124 non-null object\n",
      "ring-number                 8124 non-null object\n",
      "ring-type                   8124 non-null object\n",
      "spore-print-color           8124 non-null object\n",
      "population                  8124 non-null object\n",
      "habitat                     8124 non-null object\n",
      "dtypes: object(23)\n",
      "memory usage: 1.4+ MB\n"
     ]
    }
   ],
   "source": [
    "df=pd.read_csv(\"mushrooms.csv\")\n",
    "df.info()"
   ]
  },
  {
   "cell_type": "code",
   "execution_count": 104,
   "metadata": {},
   "outputs": [],
   "source": [
    "df_labels=df.pop(\"class\")\n",
    "df_features=df\n",
    "df_labels.replace(\"?\",999999,inplace=True)"
   ]
  },
  {
   "cell_type": "code",
   "execution_count": 105,
   "metadata": {},
   "outputs": [
    {
     "name": "stdout",
     "output_type": "stream",
     "text": [
      "['x' 'b' 's' 'f' 'k' 'c']\n"
     ]
    }
   ],
   "source": [
    "print(df[\"cap-shape\"].unique())\n",
    "c1=[]\n",
    "for i in df[\"cap-shape\"]:\n",
    "    if i==\"x\":\n",
    "        c1.append([1,0,0,0,0,0])\n",
    "    elif i==\"b\":\n",
    "        c1.append([0,1,0,0,0,0])\n",
    "    elif i==\"s\":\n",
    "        c1.append([0,0,1,0,0,0])\n",
    "    elif i==\"f\":\n",
    "        c1.append([0,0,0,1,0,0])\n",
    "    elif i==\"k\":\n",
    "        c1.append([0,0,0,0,1,0])\n",
    "    elif i==\"c\":\n",
    "        c1.append([0,0,0,0,0,1])"
   ]
  },
  {
   "cell_type": "code",
   "execution_count": 106,
   "metadata": {},
   "outputs": [
    {
     "name": "stdout",
     "output_type": "stream",
     "text": [
      "['s' 'y' 'f' 'g']\n"
     ]
    }
   ],
   "source": [
    "print(df[\"cap-surface\"].unique())\n",
    "c2=[]\n",
    "for i in df[\"cap-surface\"]:\n",
    "    if i==\"s\":\n",
    "        c2.append([1,0,0,0])\n",
    "    elif i==\"y\":\n",
    "        c2.append([0,1,0,0])\n",
    "    elif i==\"f\":\n",
    "        c2.append([0,0,1,0])\n",
    "    elif i==\"g\":\n",
    "        c2.append([0,0,0,1])"
   ]
  },
  {
   "cell_type": "code",
   "execution_count": 107,
   "metadata": {},
   "outputs": [
    {
     "name": "stdout",
     "output_type": "stream",
     "text": [
      "['n' 'y' 'w' 'g' 'e' 'p' 'b' 'u' 'c' 'r']\n"
     ]
    }
   ],
   "source": [
    "print(df[\"cap-color\"].unique())\n",
    "c3=[]\n",
    "for i in df[\"cap-color\"]:\n",
    "    if i==\"n\":\n",
    "        c3.append([1,0,0,0,0,0,0,0,0,0])\n",
    "    elif i==\"y\":\n",
    "        c3.append([0,1,0,0,0,0,0,0,0,0])\n",
    "    elif i==\"w\":\n",
    "        c3.append([0,0,1,0,0,0,0,0,0,0])\n",
    "    elif i==\"g\":\n",
    "        c3.append([0,0,0,1,0,0,0,0,0,0])\n",
    "    elif i==\"e\":\n",
    "        c3.append([0,0,0,0,1,0,0,0,0,0])\n",
    "    elif i==\"p\":\n",
    "        c3.append([0,0,0,0,0,1,0,0,0,0])\n",
    "    elif i==\"b\":\n",
    "        c3.append([0,0,0,0,0,0,1,0,0,0])\n",
    "    elif i==\"u\":\n",
    "        c3.append([0,0,0,0,0,0,0,1,0,0])\n",
    "    elif i==\"c\":\n",
    "        c3.append([0,0,0,0,0,0,0,0,1,0])\n",
    "    elif i==\"r\":\n",
    "        c3.append([0,0,0,0,0,0,0,0,0,1])"
   ]
  },
  {
   "cell_type": "code",
   "execution_count": 108,
   "metadata": {},
   "outputs": [
    {
     "name": "stdout",
     "output_type": "stream",
     "text": [
      "['t' 'f']\n"
     ]
    }
   ],
   "source": [
    "print(df[\"bruises\"].unique())\n",
    "c4=[]\n",
    "for i in df[\"bruises\"]:\n",
    "    if i==\"t\":\n",
    "        c4.append([1,0])\n",
    "    elif i==\"f\":\n",
    "        c4.append([0,1])"
   ]
  },
  {
   "cell_type": "code",
   "execution_count": 109,
   "metadata": {},
   "outputs": [
    {
     "name": "stdout",
     "output_type": "stream",
     "text": [
      "['p' 'a' 'l' 'n' 'f' 'c' 'y' 's' 'm']\n"
     ]
    }
   ],
   "source": [
    "print(df[\"odor\"].unique())\n",
    "c5=[]\n",
    "for i in df[\"odor\"]:\n",
    "    if i==\"p\":\n",
    "        c5.append([1,0,0,0,0,0,0,0,0])\n",
    "    elif i==\"a\":\n",
    "        c5.append([0,1,0,0,0,0,0,0,0])\n",
    "    elif i==\"l\":\n",
    "        c5.append([0,0,1,0,0,0,0,0,0])\n",
    "    elif i==\"n\":\n",
    "        c5.append([0,0,0,1,0,0,0,0,0])\n",
    "    elif i==\"f\":\n",
    "        c5.append([0,0,0,0,1,0,0,0,0])\n",
    "    elif i==\"c\":\n",
    "        c5.append([0,0,0,0,0,1,0,0,0])\n",
    "    elif i==\"y\":\n",
    "        c5.append([0,0,0,0,0,0,1,0,0])\n",
    "    elif i==\"s\":\n",
    "        c5.append([0,0,0,0,0,0,0,1,0])\n",
    "    elif i==\"m\":\n",
    "        c5.append([0,0,0,0,0,0,0,0,1])"
   ]
  },
  {
   "cell_type": "code",
   "execution_count": 110,
   "metadata": {},
   "outputs": [
    {
     "name": "stdout",
     "output_type": "stream",
     "text": [
      "['f' 'a']\n"
     ]
    }
   ],
   "source": [
    "print(df[\"gill-attachment\"].unique())\n",
    "c6=[]\n",
    "for i in df[\"gill-attachment\"]:\n",
    "    if i==\"f\":\n",
    "        c6.append([1,0])\n",
    "    elif i==\"a\":\n",
    "        c6.append([0,1])"
   ]
  },
  {
   "cell_type": "code",
   "execution_count": 111,
   "metadata": {},
   "outputs": [
    {
     "name": "stdout",
     "output_type": "stream",
     "text": [
      "['c' 'w']\n"
     ]
    }
   ],
   "source": [
    "print(df[\"gill-spacing\"].unique())\n",
    "c7=[]\n",
    "for i in df[\"gill-spacing\"]:\n",
    "    if i==\"c\":\n",
    "        c7.append([1,0])\n",
    "    elif i==\"w\":\n",
    "        c7.append([0,1])"
   ]
  },
  {
   "cell_type": "code",
   "execution_count": 112,
   "metadata": {},
   "outputs": [
    {
     "name": "stdout",
     "output_type": "stream",
     "text": [
      "['n' 'b']\n"
     ]
    }
   ],
   "source": [
    "print(df[\"gill-size\"].unique())\n",
    "c8=[]\n",
    "for i in df[\"gill-size\"]:\n",
    "    if i==\"n\":\n",
    "        c8.append([1,0])\n",
    "    elif i==\"b\":\n",
    "        c8.append([0,1])"
   ]
  },
  {
   "cell_type": "code",
   "execution_count": 113,
   "metadata": {},
   "outputs": [
    {
     "name": "stdout",
     "output_type": "stream",
     "text": [
      "['k' 'n' 'g' 'p' 'w' 'h' 'u' 'e' 'b' 'r' 'y' 'o']\n"
     ]
    }
   ],
   "source": [
    "print(df[\"gill-color\"].unique())\n",
    "c9=[]\n",
    "for i in df[\"gill-color\"]:\n",
    "    if i==\"k\":\n",
    "        c9.append([1,0,0,0,0,0,0,0,0,0,0,0])\n",
    "    elif i==\"n\":\n",
    "        c9.append([0,1,0,0,0,0,0,0,0,0,0,0])\n",
    "    elif i==\"g\":\n",
    "        c9.append([0,0,1,0,0,0,0,0,0,0,0,0])\n",
    "    elif i==\"p\":\n",
    "        c9.append([0,0,0,1,0,0,0,0,0,0,0,0])\n",
    "    elif i==\"w\":\n",
    "        c9.append([0,0,0,0,1,0,0,0,0,0,0,0])\n",
    "    elif i==\"h\":\n",
    "        c9.append([0,0,0,0,0,1,0,0,0,0,0,0])\n",
    "    elif i==\"u\":\n",
    "        c9.append([0,0,0,0,0,0,1,0,0,0,0,0])\n",
    "    elif i==\"e\":\n",
    "        c9.append([0,0,0,0,0,0,0,1,0,0,0,0])\n",
    "    elif i==\"b\":\n",
    "        c9.append([0,0,0,0,0,0,0,0,1,0,0,0])\n",
    "    elif i==\"r\":\n",
    "        c9.append([0,0,0,0,0,0,0,0,0,1,0,0])\n",
    "    elif i==\"y\":\n",
    "        c9.append([0,0,0,0,0,0,0,0,0,0,1,0])\n",
    "    elif i==\"o\":\n",
    "        c9.append([0,0,0,0,0,0,0,0,0,0,0,1])"
   ]
  },
  {
   "cell_type": "code",
   "execution_count": 114,
   "metadata": {},
   "outputs": [
    {
     "name": "stdout",
     "output_type": "stream",
     "text": [
      "['e' 't']\n"
     ]
    }
   ],
   "source": [
    "print(df[\"stalk-shape\"].unique())\n",
    "c10=[]\n",
    "for i in df[\"stalk-shape\"]:\n",
    "    if i==\"e\":\n",
    "        c10.append([1,0])\n",
    "    else:\n",
    "        c10.append([0,1])"
   ]
  },
  {
   "cell_type": "code",
   "execution_count": 115,
   "metadata": {},
   "outputs": [
    {
     "name": "stdout",
     "output_type": "stream",
     "text": [
      "['e' 'c' 'b' 'r' '?']\n"
     ]
    }
   ],
   "source": [
    "print(df[\"stalk-root\"].unique())\n",
    "c11=[]\n",
    "for i in df[\"stalk-root\"]:\n",
    "    if i==\"e\":\n",
    "        c11.append([1,0,0,0])\n",
    "    elif i==\"c\":\n",
    "        c11.append([0,1,0,0])\n",
    "    elif i==\"b\":\n",
    "        c11.append([0,0,1,0])\n",
    "    elif i==\"r\":\n",
    "        c11.append([0,0,0,1])\n",
    "    else:\n",
    "        c11.append([0,0,0,0])"
   ]
  },
  {
   "cell_type": "code",
   "execution_count": 116,
   "metadata": {},
   "outputs": [
    {
     "name": "stdout",
     "output_type": "stream",
     "text": [
      "['s' 'f' 'k' 'y']\n"
     ]
    }
   ],
   "source": [
    "print(df[\"stalk-surface-above-ring\"].unique())\n",
    "c12=[]\n",
    "for i in df[\"stalk-surface-above-ring\"]:\n",
    "    if i==\"s\":\n",
    "        c12.append([1,0,0,0])\n",
    "    elif i==\"f\":\n",
    "        c12.append([0,1,0,0])\n",
    "    elif i==\"k\":\n",
    "        c12.append([0,0,1,0])\n",
    "    elif i==\"y\":\n",
    "        c12.append([0,0,0,1])"
   ]
  },
  {
   "cell_type": "code",
   "execution_count": 117,
   "metadata": {},
   "outputs": [
    {
     "name": "stdout",
     "output_type": "stream",
     "text": [
      "['s' 'f' 'y' 'k']\n"
     ]
    }
   ],
   "source": [
    "print(df[\"stalk-surface-below-ring\"].unique())\n",
    "c12a=[]\n",
    "for i in df[\"stalk-surface-below-ring\"]:\n",
    "    if i==\"s\":\n",
    "        c12a.append([1,0,0,0])\n",
    "    elif i==\"f\":\n",
    "        c12a.append([0,1,0,0])\n",
    "    elif i==\"y\":\n",
    "        c12a.append([0,0,1,0])\n",
    "    elif i==\"k\":\n",
    "        c12a.append([0,0,0,1])"
   ]
  },
  {
   "cell_type": "code",
   "execution_count": 118,
   "metadata": {},
   "outputs": [
    {
     "name": "stdout",
     "output_type": "stream",
     "text": [
      "['w' 'g' 'p' 'n' 'b' 'e' 'o' 'c' 'y']\n"
     ]
    }
   ],
   "source": [
    "print(df[\"stalk-color-above-ring\"].unique())\n",
    "c13=[]\n",
    "for i in df[\"stalk-color-above-ring\"]:\n",
    "    if i==\"w\":\n",
    "        c13.append([1,0,0,0,0,0,0,0,0])\n",
    "    elif i==\"g\":\n",
    "        c13.append([0,1,0,0,0,0,0,0,0])\n",
    "    elif i==\"p\":\n",
    "        c13.append([0,0,1,0,0,0,0,0,0])\n",
    "    elif i==\"n\":\n",
    "        c13.append([0,0,0,1,0,0,0,0,0])\n",
    "    elif i==\"b\":\n",
    "        c13.append([0,0,0,0,1,0,0,0,0])\n",
    "    elif i==\"e\":\n",
    "        c13.append([0,0,0,0,0,1,0,0,0])\n",
    "    elif i==\"o\":\n",
    "        c13.append([0,0,0,0,0,0,1,0,0])\n",
    "    elif i==\"c\":\n",
    "        c13.append([0,0,0,0,0,0,0,1,0])\n",
    "    elif i==\"y\":\n",
    "        c13.append([0,0,0,0,0,0,0,0,1])"
   ]
  },
  {
   "cell_type": "code",
   "execution_count": 119,
   "metadata": {},
   "outputs": [
    {
     "name": "stdout",
     "output_type": "stream",
     "text": [
      "['w' 'p' 'g' 'b' 'n' 'e' 'y' 'o' 'c']\n"
     ]
    }
   ],
   "source": [
    "print(df[\"stalk-color-below-ring\"].unique())\n",
    "c14=[]\n",
    "for i in df[\"stalk-color-below-ring\"]:\n",
    "    if i==\"w\":\n",
    "        c14.append([1,0,0,0,0,0,0,0,0])\n",
    "    elif i==\"p\":\n",
    "        c14.append([0,1,0,0,0,0,0,0,0])\n",
    "    elif i==\"g\":\n",
    "        c14.append([0,0,1,0,0,0,0,0,0])\n",
    "    elif i==\"b\":\n",
    "        c14.append([0,0,0,1,0,0,0,0,0])\n",
    "    elif i==\"n\":\n",
    "        c14.append([0,0,0,0,1,0,0,0,0])\n",
    "    elif i==\"e\":\n",
    "        c14.append([0,0,0,0,0,1,0,0,0])\n",
    "    elif i==\"y\":\n",
    "        c14.append([0,0,0,0,0,0,1,0,0])\n",
    "    elif i==\"o\":\n",
    "        c14.append([0,0,0,0,0,0,0,1,0])\n",
    "    elif i==\"c\":\n",
    "        c14.append([0,0,0,0,0,0,0,0,1])"
   ]
  },
  {
   "cell_type": "code",
   "execution_count": 120,
   "metadata": {},
   "outputs": [
    {
     "name": "stdout",
     "output_type": "stream",
     "text": [
      "['p']\n"
     ]
    }
   ],
   "source": [
    "print(df[\"veil-type\"].unique())\n",
    "c15=[]\n",
    "for i in df[\"veil-type\"]:\n",
    "    if i==\"p\":\n",
    "        c15.append([1])"
   ]
  },
  {
   "cell_type": "code",
   "execution_count": 121,
   "metadata": {},
   "outputs": [
    {
     "name": "stdout",
     "output_type": "stream",
     "text": [
      "['w' 'n' 'o' 'y']\n"
     ]
    }
   ],
   "source": [
    "print(df[\"veil-color\"].unique())\n",
    "c16=[]\n",
    "for i in df[\"veil-color\"]:\n",
    "    if i==\"w\":\n",
    "        c16.append([1,0,0,0])\n",
    "    elif i==\"n\":\n",
    "        c16.append([0,1,0,0])\n",
    "    elif i==\"o\":\n",
    "        c16.append([0,0,1,0])\n",
    "    elif i==\"y\":\n",
    "        c16.append([0,0,0,1])"
   ]
  },
  {
   "cell_type": "code",
   "execution_count": 122,
   "metadata": {},
   "outputs": [
    {
     "name": "stdout",
     "output_type": "stream",
     "text": [
      "['o' 't' 'n']\n"
     ]
    }
   ],
   "source": [
    "print(df[\"ring-number\"].unique())\n",
    "c17=[]\n",
    "for i in df[\"ring-number\"]:\n",
    "    if i==\"o\":\n",
    "        c17.append([1,0,0])\n",
    "    elif i==\"t\":\n",
    "        c17.append([0,1,0])\n",
    "    elif i==\"n\":\n",
    "        c17.append([0,0,1])"
   ]
  },
  {
   "cell_type": "code",
   "execution_count": 123,
   "metadata": {},
   "outputs": [
    {
     "name": "stdout",
     "output_type": "stream",
     "text": [
      "['p' 'e' 'l' 'f' 'n']\n"
     ]
    }
   ],
   "source": [
    "print(df[\"ring-type\"].unique())\n",
    "c18=[]\n",
    "for i in df[\"veil-type\"]:\n",
    "    if i==\"p\":\n",
    "        c18.append([1,0,0,0,0])\n",
    "    elif i==\"e\":\n",
    "        c18.append([0,1,0,0,0])\n",
    "    elif i==\"l\":\n",
    "        c18.append([0,0,1,0,0])\n",
    "    elif i==\"f\":\n",
    "        c18.append([0,0,0,1,0])\n",
    "    elif i==\"n\":\n",
    "        c18.append([0,0,0,0,1])"
   ]
  },
  {
   "cell_type": "code",
   "execution_count": 124,
   "metadata": {},
   "outputs": [
    {
     "name": "stdout",
     "output_type": "stream",
     "text": [
      "['k' 'n' 'u' 'h' 'w' 'r' 'o' 'y' 'b']\n"
     ]
    }
   ],
   "source": [
    "print(df[\"spore-print-color\"].unique())\n",
    "c19=[]\n",
    "for i in df[\"spore-print-color\"]:\n",
    "    if i==\"k\":\n",
    "        c19.append([1,0,0,0,0,0,0,0,0])\n",
    "    elif i==\"n\":\n",
    "        c19.append([0,1,0,0,0,0,0,0,0])\n",
    "    elif i==\"u\":\n",
    "        c19.append([0,0,1,0,0,0,0,0,0])\n",
    "    elif i==\"h\":\n",
    "        c19.append([0,0,0,1,0,0,0,0,0])\n",
    "    elif i==\"w\":\n",
    "        c19.append([0,0,0,0,1,0,0,0,0])\n",
    "    elif i==\"r\":\n",
    "        c19.append([0,0,0,0,0,1,0,0,0])\n",
    "    elif i==\"o\":\n",
    "        c19.append([0,0,0,0,0,0,1,0,0])\n",
    "    elif i==\"y\":\n",
    "        c19.append([0,0,0,0,0,0,0,1,0])\n",
    "    elif i==\"b\":\n",
    "        c19.append([0,0,0,0,0,0,0,0,1])"
   ]
  },
  {
   "cell_type": "code",
   "execution_count": 125,
   "metadata": {},
   "outputs": [
    {
     "name": "stdout",
     "output_type": "stream",
     "text": [
      "['s' 'n' 'a' 'v' 'y' 'c']\n"
     ]
    }
   ],
   "source": [
    "print(df[\"population\"].unique())\n",
    "c20=[]\n",
    "for i in df[\"population\"]:\n",
    "    if i==\"s\":\n",
    "        c20.append([1,0,0,0,0,0])\n",
    "    elif i==\"n\":\n",
    "        c20.append([0,1,0,0,0,0])\n",
    "    elif i==\"a\":\n",
    "        c20.append([0,0,1,0,0,0])\n",
    "    elif i==\"v\":\n",
    "        c20.append([0,0,0,1,0,0])\n",
    "    elif i==\"y\":\n",
    "        c20.append([0,0,0,0,1,0])\n",
    "    elif i==\"c\":\n",
    "        c20.append([0,0,0,0,0,1])"
   ]
  },
  {
   "cell_type": "code",
   "execution_count": 126,
   "metadata": {},
   "outputs": [
    {
     "name": "stdout",
     "output_type": "stream",
     "text": [
      "['u' 'g' 'm' 'd' 'p' 'w' 'l']\n"
     ]
    }
   ],
   "source": [
    "print(df[\"habitat\"].unique())\n",
    "c21=[]\n",
    "for i in df[\"habitat\"]:\n",
    "    if i==\"u\":\n",
    "        c21.append([1,0,0,0,0,0,0])\n",
    "    elif i==\"g\":\n",
    "        c21.append([0,1,0,0,0,0,0])\n",
    "    elif i==\"m\":\n",
    "        c21.append([0,0,1,0,0,0,0])\n",
    "    elif i==\"d\":\n",
    "        c21.append([0,0,0,1,0,0,0])\n",
    "    elif i==\"p\":\n",
    "        c21.append([0,0,0,0,1,0,0])\n",
    "    elif i==\"w\":\n",
    "        c21.append([0,0,0,0,0,1,0])\n",
    "    elif i==\"l\":\n",
    "        c21.append([0,0,0,0,0,0,1])"
   ]
  },
  {
   "cell_type": "code",
   "execution_count": 127,
   "metadata": {},
   "outputs": [
    {
     "name": "stdout",
     "output_type": "stream",
     "text": [
      "8124\n",
      "8124\n",
      "8124\n",
      "8124\n",
      "8124\n",
      "8124\n",
      "8124\n",
      "8124\n",
      "8124\n",
      "8124\n",
      "8124\n",
      "8124\n",
      "8124\n",
      "8124\n",
      "8124\n",
      "8124\n",
      "8124\n",
      "8124\n",
      "8124\n",
      "8124\n",
      "8124\n",
      "8124\n"
     ]
    }
   ],
   "source": [
    "print(len(c1))\n",
    "print(len(c2))\n",
    "print(len(c3))\n",
    "print(len(c4))\n",
    "print(len(c5))\n",
    "print(len(c6))\n",
    "print(len(c7))\n",
    "print(len(c8))\n",
    "print(len(c9))\n",
    "print(len(c10))\n",
    "print(len(c11))\n",
    "print(len(c12))\n",
    "print(len(c12a))\n",
    "print(len(c13))\n",
    "print(len(c14))\n",
    "print(len(c15))\n",
    "print(len(c16))\n",
    "print(len(c17))\n",
    "print(len(c18))\n",
    "print(len(c19))\n",
    "print(len(c20))\n",
    "print(len(c21))"
   ]
  },
  {
   "cell_type": "code",
   "execution_count": 147,
   "metadata": {},
   "outputs": [
    {
     "name": "stdout",
     "output_type": "stream",
     "text": [
      "8124\n"
     ]
    }
   ],
   "source": [
    "DATA= [None]*len(c1)\n",
    "for i in range (0,8124):\n",
    "    DATA[i]=c1[i]+c2[i]+c3[i]+c4[i]+c5[i]+c6[i]+c7[i]+c8[i]+c9[i]+c10[i]+c11[i]+c12[i]+c12a[i]+c13[i]+c14[i]+c15[i]+c16[i]+c17[i]+c18[i]+c19[i]+c20[i]+c21[i]\n",
    "print(len(DATA))\n",
    "DATA_array=np.array(DATA)"
   ]
  },
  {
   "cell_type": "code",
   "execution_count": 158,
   "metadata": {},
   "outputs": [],
   "source": [
    "list1=[]\n",
    "list1=DATA[0]"
   ]
  },
  {
   "cell_type": "code",
   "execution_count": 159,
   "metadata": {},
   "outputs": [],
   "source": [
    "label=[]\n",
    "for i in df_labels:\n",
    "    if i==\"p\":\n",
    "        label.append([1,0])\n",
    "    elif i==\"e\":\n",
    "        label.append([0,1])\n",
    "label_array=np.array(label)"
   ]
  },
  {
   "cell_type": "code",
   "execution_count": 160,
   "metadata": {},
   "outputs": [
    {
     "data": {
      "text/plain": [
       "(8124, 2)"
      ]
     },
     "execution_count": 160,
     "metadata": {},
     "output_type": "execute_result"
    }
   ],
   "source": [
    "label_array.shape"
   ]
  },
  {
   "cell_type": "code",
   "execution_count": 161,
   "metadata": {},
   "outputs": [
    {
     "name": "stdout",
     "output_type": "stream",
     "text": [
      "(6499, 116)\n",
      "(1625, 116)\n",
      "(6499, 2)\n",
      "(1625, 2)\n"
     ]
    }
   ],
   "source": [
    "xtrain,xtest,ytrain,ytest=train_test_split(DATA_array,label_array,test_size=0.2)\n",
    "print(xtrain.shape)\n",
    "print(xtest.shape)\n",
    "print(ytrain.shape)\n",
    "print(ytest.shape)"
   ]
  },
  {
   "cell_type": "code",
   "execution_count": 162,
   "metadata": {},
   "outputs": [
    {
     "name": "stdout",
     "output_type": "stream",
     "text": [
      "Train on 6499 samples, validate on 1625 samples\n",
      "Epoch 1/100\n",
      "6499/6499 [==============================] - 2s 258us/step - loss: 0.0888 - acc: 0.8898 - val_loss: 0.0208 - val_acc: 0.9809\n",
      "Epoch 2/100\n",
      "6499/6499 [==============================] - 1s 150us/step - loss: 0.0114 - acc: 0.9898 - val_loss: 0.0054 - val_acc: 0.9994\n",
      "Epoch 3/100\n",
      "6499/6499 [==============================] - 1s 150us/step - loss: 0.0039 - acc: 0.9980 - val_loss: 0.0022 - val_acc: 1.0000\n",
      "Epoch 4/100\n",
      "6499/6499 [==============================] - 1s 161us/step - loss: 0.0020 - acc: 0.9992 - val_loss: 0.0012 - val_acc: 1.0000\n",
      "Epoch 5/100\n",
      "6499/6499 [==============================] - 1s 147us/step - loss: 0.0011 - acc: 0.9998 - val_loss: 7.7088e-04 - val_acc: 1.0000\n",
      "Epoch 6/100\n",
      "6499/6499 [==============================] - 1s 162us/step - loss: 6.4269e-04 - acc: 1.0000 - val_loss: 4.8597e-04 - val_acc: 1.0000\n",
      "Epoch 7/100\n",
      "6499/6499 [==============================] - 1s 156us/step - loss: 4.0976e-04 - acc: 1.0000 - val_loss: 3.6034e-04 - val_acc: 1.0000\n",
      "Epoch 8/100\n",
      "6499/6499 [==============================] - 1s 158us/step - loss: 2.9187e-04 - acc: 1.0000 - val_loss: 4.3382e-04 - val_acc: 1.0000\n",
      "Epoch 9/100\n",
      "6499/6499 [==============================] - 1s 163us/step - loss: 2.1879e-04 - acc: 1.0000 - val_loss: 1.8223e-04 - val_acc: 1.0000\n",
      "Epoch 10/100\n",
      "6499/6499 [==============================] - 1s 171us/step - loss: 1.5889e-04 - acc: 1.0000 - val_loss: 1.4514e-04 - val_acc: 1.0000\n",
      "Epoch 11/100\n",
      "6499/6499 [==============================] - 1s 160us/step - loss: 1.2797e-04 - acc: 1.0000 - val_loss: 1.1480e-04 - val_acc: 1.0000\n",
      "Epoch 12/100\n",
      "6499/6499 [==============================] - 1s 164us/step - loss: 1.0505e-04 - acc: 1.0000 - val_loss: 9.1411e-05 - val_acc: 1.0000\n",
      "Epoch 13/100\n",
      "6499/6499 [==============================] - 1s 157us/step - loss: 8.8170e-05 - acc: 1.0000 - val_loss: 7.8286e-05 - val_acc: 1.0000\n",
      "Epoch 14/100\n",
      "6499/6499 [==============================] - 1s 152us/step - loss: 7.1898e-05 - acc: 1.0000 - val_loss: 6.3797e-05 - val_acc: 1.0000\n",
      "Epoch 15/100\n",
      "6499/6499 [==============================] - 1s 162us/step - loss: 5.9213e-05 - acc: 1.0000 - val_loss: 5.4875e-05 - val_acc: 1.0000\n",
      "Epoch 16/100\n",
      "6499/6499 [==============================] - 1s 162us/step - loss: 5.0626e-05 - acc: 1.0000 - val_loss: 4.7817e-05 - val_acc: 1.0000\n",
      "Epoch 17/100\n",
      "6499/6499 [==============================] - 1s 160us/step - loss: 4.3922e-05 - acc: 1.0000 - val_loss: 4.1201e-05 - val_acc: 1.0000\n",
      "Epoch 18/100\n",
      "6499/6499 [==============================] - 1s 170us/step - loss: 3.8688e-05 - acc: 1.0000 - val_loss: 3.6404e-05 - val_acc: 1.0000\n",
      "Epoch 19/100\n",
      "6499/6499 [==============================] - 1s 163us/step - loss: 3.3100e-05 - acc: 1.0000 - val_loss: 3.6148e-05 - val_acc: 1.0000\n",
      "Epoch 20/100\n",
      "6499/6499 [==============================] - 1s 163us/step - loss: 2.9941e-05 - acc: 1.0000 - val_loss: 2.7822e-05 - val_acc: 1.0000\n",
      "Epoch 21/100\n",
      "6499/6499 [==============================] - 1s 171us/step - loss: 2.6544e-05 - acc: 1.0000 - val_loss: 2.5531e-05 - val_acc: 1.0000\n",
      "Epoch 22/100\n",
      "6499/6499 [==============================] - 1s 170us/step - loss: 2.3363e-05 - acc: 1.0000 - val_loss: 2.2182e-05 - val_acc: 1.0000\n",
      "Epoch 23/100\n",
      "6499/6499 [==============================] - 1s 163us/step - loss: 2.1405e-05 - acc: 1.0000 - val_loss: 2.3075e-05 - val_acc: 1.0000\n",
      "Epoch 24/100\n",
      "6499/6499 [==============================] - 1s 170us/step - loss: 1.9236e-05 - acc: 1.0000 - val_loss: 1.8331e-05 - val_acc: 1.0000\n",
      "Epoch 25/100\n",
      "6499/6499 [==============================] - 1s 176us/step - loss: 1.7277e-05 - acc: 1.0000 - val_loss: 1.6761e-05 - val_acc: 1.0000\n",
      "Epoch 26/100\n",
      "6499/6499 [==============================] - 1s 167us/step - loss: 1.5593e-05 - acc: 1.0000 - val_loss: 1.5047e-05 - val_acc: 1.0000\n",
      "Epoch 27/100\n",
      "6499/6499 [==============================] - 1s 166us/step - loss: 1.4178e-05 - acc: 1.0000 - val_loss: 1.4082e-05 - val_acc: 1.0000\n",
      "Epoch 28/100\n",
      "6499/6499 [==============================] - 1s 170us/step - loss: 1.2900e-05 - acc: 1.0000 - val_loss: 1.2584e-05 - val_acc: 1.0000\n",
      "Epoch 29/100\n",
      "6499/6499 [==============================] - 1s 171us/step - loss: 1.1878e-05 - acc: 1.0000 - val_loss: 1.1471e-05 - val_acc: 1.0000\n",
      "Epoch 30/100\n",
      "6499/6499 [==============================] - 1s 162us/step - loss: 1.1007e-05 - acc: 1.0000 - val_loss: 1.0405e-05 - val_acc: 1.0000\n",
      "Epoch 31/100\n",
      "6499/6499 [==============================] - 1s 163us/step - loss: 1.0011e-05 - acc: 1.0000 - val_loss: 9.6318e-06 - val_acc: 1.0000\n",
      "Epoch 32/100\n",
      "6499/6499 [==============================] - 1s 172us/step - loss: 9.2829e-06 - acc: 1.0000 - val_loss: 8.8613e-06 - val_acc: 1.0000\n",
      "Epoch 33/100\n",
      "6499/6499 [==============================] - 1s 164us/step - loss: 8.4225e-06 - acc: 1.0000 - val_loss: 8.8845e-06 - val_acc: 1.0000\n",
      "Epoch 34/100\n",
      "6499/6499 [==============================] - 1s 160us/step - loss: 7.9460e-06 - acc: 1.0000 - val_loss: 7.9663e-06 - val_acc: 1.0000\n",
      "Epoch 35/100\n",
      "6499/6499 [==============================] - 1s 166us/step - loss: 7.2331e-06 - acc: 1.0000 - val_loss: 7.1779e-06 - val_acc: 1.0000\n",
      "Epoch 36/100\n",
      "6499/6499 [==============================] - 1s 165us/step - loss: 6.7576e-06 - acc: 1.0000 - val_loss: 6.6008e-06 - val_acc: 1.0000\n",
      "Epoch 37/100\n",
      "6499/6499 [==============================] - 1s 152us/step - loss: 6.3314e-06 - acc: 1.0000 - val_loss: 6.1467e-06 - val_acc: 1.0000\n",
      "Epoch 38/100\n",
      "6499/6499 [==============================] - 1s 142us/step - loss: 5.8209e-06 - acc: 1.0000 - val_loss: 5.6621e-06 - val_acc: 1.0000\n",
      "Epoch 39/100\n",
      "6499/6499 [==============================] - 1s 147us/step - loss: 5.4434e-06 - acc: 1.0000 - val_loss: 5.2829e-06 - val_acc: 1.0000\n",
      "Epoch 40/100\n",
      "6499/6499 [==============================] - 1s 149us/step - loss: 5.0778e-06 - acc: 1.0000 - val_loss: 4.9282e-06 - val_acc: 1.0000\n",
      "Epoch 41/100\n",
      "6499/6499 [==============================] - 1s 143us/step - loss: 4.7045e-06 - acc: 1.0000 - val_loss: 4.5914e-06 - val_acc: 1.0000\n",
      "Epoch 42/100\n",
      "6499/6499 [==============================] - 1s 142us/step - loss: 4.3880e-06 - acc: 1.0000 - val_loss: 4.2842e-06 - val_acc: 1.0000\n",
      "Epoch 43/100\n",
      "6499/6499 [==============================] - 1s 141us/step - loss: 4.0865e-06 - acc: 1.0000 - val_loss: 4.0956e-06 - val_acc: 1.0000\n",
      "Epoch 44/100\n",
      "6499/6499 [==============================] - 1s 147us/step - loss: 3.8402e-06 - acc: 1.0000 - val_loss: 3.7607e-06 - val_acc: 1.0000\n",
      "Epoch 45/100\n",
      "6499/6499 [==============================] - 1s 139us/step - loss: 3.5775e-06 - acc: 1.0000 - val_loss: 3.5241e-06 - val_acc: 1.0000\n",
      "Epoch 46/100\n",
      "6499/6499 [==============================] - 1s 145us/step - loss: 3.3619e-06 - acc: 1.0000 - val_loss: 3.3716e-06 - val_acc: 1.0000\n",
      "Epoch 47/100\n",
      "6499/6499 [==============================] - 1s 142us/step - loss: 3.1626e-06 - acc: 1.0000 - val_loss: 3.1784e-06 - val_acc: 1.0000\n",
      "Epoch 48/100\n",
      "6499/6499 [==============================] - 1s 139us/step - loss: 2.9250e-06 - acc: 1.0000 - val_loss: 2.9032e-06 - val_acc: 1.0000\n",
      "Epoch 49/100\n",
      "6499/6499 [==============================] - 1s 142us/step - loss: 2.7977e-06 - acc: 1.0000 - val_loss: 2.7479e-06 - val_acc: 1.0000\n",
      "Epoch 50/100\n",
      "6499/6499 [==============================] - 1s 140us/step - loss: 2.5969e-06 - acc: 1.0000 - val_loss: 2.5834e-06 - val_acc: 1.0000\n",
      "Epoch 51/100\n",
      "6499/6499 [==============================] - 1s 142us/step - loss: 2.4477e-06 - acc: 1.0000 - val_loss: 2.4218e-06 - val_acc: 1.0000\n",
      "Epoch 52/100\n",
      "6499/6499 [==============================] - 1s 139us/step - loss: 2.3241e-06 - acc: 1.0000 - val_loss: 2.2970e-06 - val_acc: 1.0000\n",
      "Epoch 53/100\n",
      "6499/6499 [==============================] - 1s 140us/step - loss: 2.1826e-06 - acc: 1.0000 - val_loss: 2.1433e-06 - val_acc: 1.0000\n",
      "Epoch 54/100\n",
      "6499/6499 [==============================] - 1s 154us/step - loss: 2.0329e-06 - acc: 1.0000 - val_loss: 2.0432e-06 - val_acc: 1.0000\n",
      "Epoch 55/100\n",
      "6499/6499 [==============================] - 1s 140us/step - loss: 1.9130e-06 - acc: 1.0000 - val_loss: 1.9550e-06 - val_acc: 1.0000\n",
      "Epoch 56/100\n",
      "6499/6499 [==============================] - 1s 140us/step - loss: 1.8122e-06 - acc: 1.0000 - val_loss: 1.8148e-06 - val_acc: 1.0000\n",
      "Epoch 57/100\n"
     ]
    },
    {
     "name": "stdout",
     "output_type": "stream",
     "text": [
      "6499/6499 [==============================] - 1s 137us/step - loss: 1.7085e-06 - acc: 1.0000 - val_loss: 1.7451e-06 - val_acc: 1.0000\n",
      "Epoch 58/100\n",
      "6499/6499 [==============================] - 1s 136us/step - loss: 1.6182e-06 - acc: 1.0000 - val_loss: 1.6582e-06 - val_acc: 1.0000\n",
      "Epoch 59/100\n",
      "6499/6499 [==============================] - 1s 133us/step - loss: 1.5096e-06 - acc: 1.0000 - val_loss: 1.4950e-06 - val_acc: 1.0000\n",
      "Epoch 60/100\n",
      "6499/6499 [==============================] - 1s 137us/step - loss: 1.4206e-06 - acc: 1.0000 - val_loss: 1.4582e-06 - val_acc: 1.0000\n",
      "Epoch 61/100\n",
      "6499/6499 [==============================] - 1s 137us/step - loss: 1.3515e-06 - acc: 1.0000 - val_loss: 1.3395e-06 - val_acc: 1.0000\n",
      "Epoch 62/100\n",
      "6499/6499 [==============================] - 1s 137us/step - loss: 1.2751e-06 - acc: 1.0000 - val_loss: 1.2726e-06 - val_acc: 1.0000\n",
      "Epoch 63/100\n",
      "6499/6499 [==============================] - 1s 137us/step - loss: 1.2198e-06 - acc: 1.0000 - val_loss: 1.1985e-06 - val_acc: 1.0000\n",
      "Epoch 64/100\n",
      "6499/6499 [==============================] - 1s 135us/step - loss: 1.1472e-06 - acc: 1.0000 - val_loss: 1.1478e-06 - val_acc: 1.0000\n",
      "Epoch 65/100\n",
      "6499/6499 [==============================] - 1s 138us/step - loss: 1.0778e-06 - acc: 1.0000 - val_loss: 1.0915e-06 - val_acc: 1.0000\n",
      "Epoch 66/100\n",
      "6499/6499 [==============================] - 1s 140us/step - loss: 1.0248e-06 - acc: 1.0000 - val_loss: 1.0222e-06 - val_acc: 1.0000\n",
      "Epoch 67/100\n",
      "6499/6499 [==============================] - 1s 139us/step - loss: 9.6617e-07 - acc: 1.0000 - val_loss: 9.6174e-07 - val_acc: 1.0000\n",
      "Epoch 68/100\n",
      "6499/6499 [==============================] - 1s 139us/step - loss: 9.1584e-07 - acc: 1.0000 - val_loss: 9.2064e-07 - val_acc: 1.0000\n",
      "Epoch 69/100\n",
      "6499/6499 [==============================] - 1s 140us/step - loss: 8.7282e-07 - acc: 1.0000 - val_loss: 8.8150e-07 - val_acc: 1.0000\n",
      "Epoch 70/100\n",
      "6499/6499 [==============================] - 1s 141us/step - loss: 8.2187e-07 - acc: 1.0000 - val_loss: 8.2872e-07 - val_acc: 1.0000\n",
      "Epoch 71/100\n",
      "6499/6499 [==============================] - 1s 144us/step - loss: 7.7948e-07 - acc: 1.0000 - val_loss: 7.6952e-07 - val_acc: 1.0000\n",
      "Epoch 72/100\n",
      "6499/6499 [==============================] - 1s 178us/step - loss: 7.3870e-07 - acc: 1.0000 - val_loss: 7.3294e-07 - val_acc: 1.0000\n",
      "Epoch 73/100\n",
      "6499/6499 [==============================] - 1s 169us/step - loss: 7.0272e-07 - acc: 1.0000 - val_loss: 6.9472e-07 - val_acc: 1.0000\n",
      "Epoch 74/100\n",
      "6499/6499 [==============================] - 1s 152us/step - loss: 6.7222e-07 - acc: 1.0000 - val_loss: 6.6258e-07 - val_acc: 1.0000\n",
      "Epoch 75/100\n",
      "6499/6499 [==============================] - 1s 143us/step - loss: 6.2857e-07 - acc: 1.0000 - val_loss: 6.2168e-07 - val_acc: 1.0000\n",
      "Epoch 76/100\n",
      "6499/6499 [==============================] - 1s 143us/step - loss: 5.9702e-07 - acc: 1.0000 - val_loss: 5.9871e-07 - val_acc: 1.0000\n",
      "Epoch 77/100\n",
      "6499/6499 [==============================] - 1s 143us/step - loss: 5.6575e-07 - acc: 1.0000 - val_loss: 5.5990e-07 - val_acc: 1.0000\n",
      "Epoch 78/100\n",
      "6499/6499 [==============================] - 1s 146us/step - loss: 5.4044e-07 - acc: 1.0000 - val_loss: 5.5649e-07 - val_acc: 1.0000\n",
      "Epoch 79/100\n",
      "6499/6499 [==============================] - 1s 143us/step - loss: 5.1544e-07 - acc: 1.0000 - val_loss: 5.1706e-07 - val_acc: 1.0000\n",
      "Epoch 80/100\n",
      "6499/6499 [==============================] - 1s 151us/step - loss: 4.8218e-07 - acc: 1.0000 - val_loss: 4.8902e-07 - val_acc: 1.0000\n",
      "Epoch 81/100\n",
      "6499/6499 [==============================] - 1s 143us/step - loss: 4.5801e-07 - acc: 1.0000 - val_loss: 4.6774e-07 - val_acc: 1.0000\n",
      "Epoch 82/100\n",
      "6499/6499 [==============================] - 1s 143us/step - loss: 4.3508e-07 - acc: 1.0000 - val_loss: 4.3740e-07 - val_acc: 1.0000\n",
      "Epoch 83/100\n",
      "6499/6499 [==============================] - 1s 146us/step - loss: 4.1178e-07 - acc: 1.0000 - val_loss: 4.1233e-07 - val_acc: 1.0000\n",
      "Epoch 84/100\n",
      "6499/6499 [==============================] - 1s 142us/step - loss: 3.9422e-07 - acc: 1.0000 - val_loss: 3.9616e-07 - val_acc: 1.0000\n",
      "Epoch 85/100\n",
      "6499/6499 [==============================] - 1s 142us/step - loss: 3.7510e-07 - acc: 1.0000 - val_loss: 3.7994e-07 - val_acc: 1.0000\n",
      "Epoch 86/100\n",
      "6499/6499 [==============================] - 1s 143us/step - loss: 3.5498e-07 - acc: 1.0000 - val_loss: 3.5391e-07 - val_acc: 1.0000\n",
      "Epoch 87/100\n",
      "6499/6499 [==============================] - 1s 144us/step - loss: 3.3964e-07 - acc: 1.0000 - val_loss: 3.4159e-07 - val_acc: 1.0000\n",
      "Epoch 88/100\n",
      "6499/6499 [==============================] - 1s 143us/step - loss: 3.2241e-07 - acc: 1.0000 - val_loss: 3.3441e-07 - val_acc: 1.0000\n",
      "Epoch 89/100\n",
      "6499/6499 [==============================] - 1s 147us/step - loss: 3.0501e-07 - acc: 1.0000 - val_loss: 3.0562e-07 - val_acc: 1.0000\n",
      "Epoch 90/100\n",
      "6499/6499 [==============================] - 1s 143us/step - loss: 2.9242e-07 - acc: 1.0000 - val_loss: 2.8894e-07 - val_acc: 1.0000\n",
      "Epoch 91/100\n",
      "6499/6499 [==============================] - 1s 144us/step - loss: 2.7606e-07 - acc: 1.0000 - val_loss: 2.7706e-07 - val_acc: 1.0000\n",
      "Epoch 92/100\n",
      "6499/6499 [==============================] - 1s 145us/step - loss: 2.6358e-07 - acc: 1.0000 - val_loss: 2.6443e-07 - val_acc: 1.0000\n",
      "Epoch 93/100\n",
      "6499/6499 [==============================] - 1s 147us/step - loss: 2.5040e-07 - acc: 1.0000 - val_loss: 2.5015e-07 - val_acc: 1.0000\n",
      "Epoch 94/100\n",
      "6499/6499 [==============================] - 1s 143us/step - loss: 2.3823e-07 - acc: 1.0000 - val_loss: 2.4043e-07 - val_acc: 1.0000\n",
      "Epoch 95/100\n",
      "6499/6499 [==============================] - 1s 142us/step - loss: 2.2678e-07 - acc: 1.0000 - val_loss: 2.3261e-07 - val_acc: 1.0000\n",
      "Epoch 96/100\n",
      "6499/6499 [==============================] - 1s 144us/step - loss: 2.1723e-07 - acc: 1.0000 - val_loss: 2.2831e-07 - val_acc: 1.0000\n",
      "Epoch 97/100\n",
      "6499/6499 [==============================] - 1s 144us/step - loss: 2.0836e-07 - acc: 1.0000 - val_loss: 2.1085e-07 - val_acc: 1.0000\n",
      "Epoch 98/100\n",
      "6499/6499 [==============================] - 1s 145us/step - loss: 1.9617e-07 - acc: 1.0000 - val_loss: 1.9684e-07 - val_acc: 1.0000\n",
      "Epoch 99/100\n",
      "6499/6499 [==============================] - 1s 147us/step - loss: 1.8722e-07 - acc: 1.0000 - val_loss: 1.8802e-07 - val_acc: 1.0000\n",
      "Epoch 100/100\n",
      "6499/6499 [==============================] - 1s 143us/step - loss: 1.7768e-07 - acc: 1.0000 - val_loss: 1.7830e-07 - val_acc: 1.0000\n"
     ]
    },
    {
     "data": {
      "text/plain": [
       "<keras.callbacks.History at 0x14f86a90>"
      ]
     },
     "execution_count": 162,
     "metadata": {},
     "output_type": "execute_result"
    }
   ],
   "source": [
    "model=Sequential()\n",
    "model.add(Dense(500,input_dim=116,activation=\"sigmoid\"))\n",
    "model.add(Dense(100,activation=\"sigmoid\"))\n",
    "model.add(Dense(2,activation=\"softmax\"))\n",
    "model.compile(loss='mean_squared_error', optimizer='adam', metrics=['accuracy'])\n",
    "model.fit(xtrain,ytrain, epochs=100, batch_size=70, validation_data=(xtest, ytest))"
   ]
  },
  {
   "cell_type": "code",
   "execution_count": 163,
   "metadata": {},
   "outputs": [],
   "source": [
    "result=model.predict_classes([[[1,\n",
    " 0,\n",
    " 0,\n",
    " 0,\n",
    " 0,\n",
    " 0,\n",
    " 1,\n",
    " 0,\n",
    " 0,\n",
    " 0,\n",
    " 1,\n",
    " 0,\n",
    " 0,\n",
    " 0,\n",
    " 0,\n",
    " 0,\n",
    " 0,\n",
    " 0,\n",
    " 0,\n",
    " 0,\n",
    " 1,\n",
    " 0,\n",
    " 1,\n",
    " 0,\n",
    " 0,\n",
    " 0,\n",
    " 0,\n",
    " 0,\n",
    " 0,\n",
    " 0,\n",
    " 0,\n",
    " 1,\n",
    " 0,\n",
    " 1,\n",
    " 0,\n",
    " 1,\n",
    " 0,\n",
    " 1,\n",
    " 0,\n",
    " 0,\n",
    " 0,\n",
    " 0,\n",
    " 0,\n",
    " 0,\n",
    " 0,\n",
    " 0,\n",
    " 0,\n",
    " 0,\n",
    " 0,\n",
    " 1,\n",
    " 0,\n",
    " 1,\n",
    " 0,\n",
    " 0,\n",
    " 0,\n",
    " 1,\n",
    " 0,\n",
    " 0,\n",
    " 0,\n",
    " 1,\n",
    " 0,\n",
    " 0,\n",
    " 0,\n",
    " 1,\n",
    " 0,\n",
    " 0,\n",
    " 0,\n",
    " 0,\n",
    " 0,\n",
    " 0,\n",
    " 0,\n",
    " 0,\n",
    " 1,\n",
    " 0,\n",
    " 0,\n",
    " 0,\n",
    " 0,\n",
    " 0,\n",
    " 0,\n",
    " 0,\n",
    " 0,\n",
    " 1,\n",
    " 1,\n",
    " 0,\n",
    " 0,\n",
    " 0,\n",
    " 1,\n",
    " 0,\n",
    " 0,\n",
    " 1,\n",
    " 0,\n",
    " 0,\n",
    " 0,\n",
    " 0,\n",
    " 1,\n",
    " 0,\n",
    " 0,\n",
    " 0,\n",
    " 0,\n",
    " 0,\n",
    " 0,\n",
    " 0,\n",
    " 0,\n",
    " 1,\n",
    " 0,\n",
    " 0,\n",
    " 0,\n",
    " 0,\n",
    " 0,\n",
    " 1,\n",
    " 0,\n",
    " 0,\n",
    " 0,\n",
    " 0,\n",
    " 0,\n",
    " 0]]])"
   ]
  },
  {
   "cell_type": "code",
   "execution_count": 164,
   "metadata": {},
   "outputs": [
    {
     "name": "stdout",
     "output_type": "stream",
     "text": [
      "[0]\n"
     ]
    }
   ],
   "source": [
    "print(result)"
   ]
  },
  {
   "cell_type": "code",
   "execution_count": null,
   "metadata": {},
   "outputs": [],
   "source": []
  }
 ],
 "metadata": {
  "kernelspec": {
   "display_name": "Python 3",
   "language": "python",
   "name": "python3"
  },
  "language_info": {
   "codemirror_mode": {
    "name": "ipython",
    "version": 3
   },
   "file_extension": ".py",
   "mimetype": "text/x-python",
   "name": "python",
   "nbconvert_exporter": "python",
   "pygments_lexer": "ipython3",
   "version": "3.6.5"
  }
 },
 "nbformat": 4,
 "nbformat_minor": 2
}
